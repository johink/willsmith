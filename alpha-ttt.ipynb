{
 "cells": [
  {
   "cell_type": "markdown",
   "metadata": {},
   "source": [
    "## Neural Network Details\n",
    "\n",
    "This neural network takes as an input the raw board representation s of the position and its history, and outputs both move probabilities and a value, (p, v) =  f(s). \n",
    "\n",
    "The vector of move probabilities p represents the probability of selecting each move a, pa =  Pr(a| s). \n",
    "The value v is a scalar evaluation, estimating the probability of the current player winning from position s\n",
    "\n",
    "### Input\n",
    "The input to the neural network is a 19 ×  19 ×  17 image stack comprising 17 binary feature planes. Eight feature planes, Xt, consist of binary values indicating the presence of the current player’s stones ($X_t^i = 1$ if intersection i contains a stone of the player’s colour at time-step t; 0 if the intersection is empty, contains an opponent stone, or if t <  0). \n",
    "\n",
    "A further 8 feature planes, Yt, represent the corresponding features for the opponent’s stones. \n",
    "\n",
    "The final feature plane, C, represents the colour to play, and has a constant value of either 1 if black is to play or 0 if white is to play. \n",
    "\n",
    "These planes are concatenated together to give input features st =  [Xt, Yt, Xt−1, Yt−1,..., Xt−7, Yt−7, C]. \n",
    "\n",
    "History features Xt, Yt are necessary, because Go is not fully observable solely from the current stones, as repetitions are forbidden; similarly, the colour feature C is necessary, because the komi is not observable.\n",
    "\n",
    "```\n",
    "Input:  3 x 3 x 3 x 3 x 3\n",
    "\n",
    "- a 3 x 3 grid of 3 x 3 spaces, where 1 indicates that x owns that space\n",
    "- a 3 x 3 grid of 3 x 3 spaces, where 1 indicates that o owns that space\n",
    "- a 3 x 3 grid of 3 x 3 spaces, where 1 indicates that x is playing, 0 indicates o is playing\n",
    "\n",
    "Tic Tac Toe doesn't need history information\n",
    "```\n",
    "\n",
    "### Processing\n",
    "The input features are processed by a residual tower that consists of a single convolutional block followed by either 19 or 39 residual blocks\n",
    "\n",
    "The convolutional block applies the following modules:\n",
    "* A convolution of 256 filters of kernel size 3 ×  3 with stride 1\n",
    "* Batch normalization\n",
    "* A rectifier nonlinearity\n",
    "\n",
    "Each residual block applies the following modules sequentially to its input:\n",
    "* A convolution of 256 filters of kernel size 3 ×  3 with stride 1\n",
    "* Batch normalization\n",
    "* A rectifier nonlinearity\n",
    "* A convolution of 256 filters of kernel size 3 ×  3 with stride 1\n",
    "* Batch normalization\n",
    "* A skip connection that adds the input to the block\n",
    "* A rectifier nonlinearity\n",
    "\n",
    "The output of the residual tower is passed into two separate ‘heads’ for  computing the policy and value. \n",
    "\n",
    "The policy head applies the following modules:\n",
    "* A convolution of 2 filters of kernel size 1 ×  1 with stride 1\n",
    "* Batch normalization\n",
    "* A rectifier nonlinearity\n",
    "* A fully connected linear layer that outputs a vector of size 192 +  1  =   362, corresponding to logit probabilities for all intersections and the pass move\n",
    "\n",
    "The value head applies the following modules:\n",
    "* A convolution of 1 filter of kernel size 1 ×  1 with stride 1\n",
    "* Batch normalization \n",
    "* A rectifier nonlinearity\n",
    "* A fully connected linear layer to a hidden layer of size 256\n",
    "* A rectifier nonlinearity\n",
    "* A fully connected linear layer to a scalar\n",
    "* A tanh nonlinearity outputting a scalar in the range [− 1,  1]\n",
    "\n",
    "The overall network depth, in the 20- or 40-block network, is 39 or 79 parameterized layers, respectively, for the residual tower, plus an additional 2 layers for the policy head and 3 layers for the value head."
   ]
  },
  {
   "cell_type": "code",
   "execution_count": 63,
   "metadata": {},
   "outputs": [],
   "source": [
    "import torch.nn as nn\n",
    "import torch.nn.functional as F\n",
    "\n",
    "NUM_MOVES = 81 # Max number of valid moves in a game of NestedTTT\n",
    "\n",
    "class NestedTTTNet(nn.Module):\n",
    "    def __init__(self, inner_board_units = 32, outer_board_units = 64, final_units = 256, n_res_layers = 2):\n",
    "        super(NestedTTTNet, self).__init__()\n",
    "        self.n_res_layers = n_res_layers\n",
    "        self.outer_board_units = outer_board_units\n",
    "        self.final_units = final_units\n",
    "        \n",
    "        self.conv1 = nn.Conv2d(3, inner_board_units, 3, padding = 1)\n",
    "        self.bn_inner = nn.BatchNorm2d(inner_board_units)\n",
    "        self.res1 = nn.Conv2d(inner_board_units, inner_board_units, 3, padding = 1)\n",
    "        \n",
    "        self.conv2_collapse = nn.Conv2d(inner_board_units, outer_board_units, 3)\n",
    "        self.bn_outer = nn.BatchNorm2d(outer_board_units)\n",
    "        self.res2 = nn.Conv2d(outer_board_units, outer_board_units, 3, padding = 1)\n",
    "        \n",
    "        self.conv3_collapse = nn.Conv2d(outer_board_units, final_units, 3)\n",
    "        self.bn_linear = nn.BatchNorm1d(final_units)\n",
    "        \n",
    "        self.policy_head = nn.Sequential(\n",
    "            nn.Linear(final_units, NUM_MOVES),\n",
    "            nn.Softmax(dim = 1)\n",
    "        )\n",
    "        \n",
    "        self.value_head = nn.Sequential(\n",
    "            nn.Linear(final_units, final_units // 2),\n",
    "            nn.ReLU(),\n",
    "            nn.Linear(final_units // 2, 1),\n",
    "            nn.Tanh()\n",
    "        )\n",
    "        \n",
    "    def forward(self, board_states):\n",
    "        '''\n",
    "        board_states.size() == (-1, 3, 3, 3, 3, 3)\n",
    "                            == (batch_size, [x-owned, o-owned, turn-state], outer_row, outer_col, inner_row, inner_col)\n",
    "        '''\n",
    "        # Move the outer board states to the left so their intra-square can be resolved before introducing inter-square\n",
    "        board_states = board_states.permute(0, 2, 3, 1, 4, 5).contiguous().view(-1, 3, 3, 3)\n",
    "        \n",
    "        x = F.relu(self.bn_inner(self.conv1(board_states)))\n",
    "        for _ in range(self.n_res_layers):\n",
    "            x_conv = F.relu(self.bn_inner(self.res1(x)))\n",
    "            x = F.relu(x + self.bn_inner(self.res1(x_conv)))\n",
    "            \n",
    "        x = F.relu(self.bn_outer(self.conv2_collapse(x)))\n",
    "        x = x.view(-1, 3, 3, self.outer_board_units).permute(0, 3, 1, 2).contiguous() # Move them back to the right\n",
    "        \n",
    "        for _ in range(self.n_res_layers):\n",
    "            x_conv = F.relu(self.bn_outer(self.res2(x)))\n",
    "            x = F.relu(x + self.bn_outer(self.res2(x_conv)))\n",
    "        \n",
    "        x = F.relu(self.bn_linear(self.conv3_collapse(x).view(-1, self.final_units)))\n",
    "        \n",
    "        policy = self.policy_head(x)\n",
    "        value = self.value_head(x)\n",
    "        \n",
    "        return policy, value"
   ]
  },
  {
   "cell_type": "code",
   "execution_count": 69,
   "metadata": {},
   "outputs": [
    {
     "data": {
      "text/plain": [
       "torch.Size([2, 3, 3, 3, 3, 3])"
      ]
     },
     "execution_count": 69,
     "metadata": {},
     "output_type": "execute_result"
    }
   ],
   "source": [
    "import torch, numpy as np\n",
    "\n",
    "data = [i // 9 + 1 for i in range(81)]\n",
    "data = np.array(data).reshape(3, 3, 3, 3)\n",
    "data = np.stack([data, data, data])\n",
    "data = np.stack([data, data])\n",
    "data = torch.autograd.Variable(torch.FloatTensor(np.random.rand(2, 3, 3, 3, 3, 3)))\n",
    "data.size()"
   ]
  },
  {
   "cell_type": "code",
   "execution_count": 89,
   "metadata": {},
   "outputs": [
    {
     "data": {
      "text/plain": [
       "(Variable containing:\n",
       " \n",
       " Columns 0 to 9 \n",
       " 1.00000e-02 *\n",
       "   1.0877  1.1769  2.1159  1.2843  0.9689  1.0690  0.9017  1.1462  1.2311  1.4320\n",
       "   0.9293  1.0400  1.2625  1.2292  0.9208  0.9510  1.2919  1.4407  1.1609  1.0443\n",
       " \n",
       " Columns 10 to 19 \n",
       " 1.00000e-02 *\n",
       "   1.1628  0.9882  1.2001  1.2703  1.0967  1.0205  1.2968  1.4881  1.1008  1.6264\n",
       "   0.8828  1.2675  0.7899  1.2562  1.2098  1.2410  1.2612  0.9298  0.6741  1.0365\n",
       " \n",
       " Columns 20 to 29 \n",
       " 1.00000e-02 *\n",
       "   1.7245  1.1074  0.7582  1.2200  1.4178  1.0207  1.3779  1.4900  0.9866  1.6185\n",
       "   1.1365  1.3561  0.9573  1.6477  1.2080  0.9402  1.2157  0.8932  0.9086  1.1259\n",
       " \n",
       " Columns 30 to 39 \n",
       " 1.00000e-02 *\n",
       "   1.2940  1.4246  1.0142  1.3920  1.5527  1.0310  1.2820  1.1478  0.8469  0.9561\n",
       "   1.4755  1.3132  1.2646  1.2670  1.4887  0.6196  0.9581  1.3323  1.4085  1.6318\n",
       " \n",
       " Columns 40 to 49 \n",
       " 1.00000e-02 *\n",
       "   1.2676  1.0882  1.1406  1.9561  1.2466  0.9037  1.0613  0.9495  1.3877  1.2649\n",
       "   2.4861  1.1420  0.7516  1.3578  0.9265  1.1401  1.1666  1.9944  1.6155  1.5741\n",
       " \n",
       " Columns 50 to 59 \n",
       " 1.00000e-02 *\n",
       "   1.0515  1.6463  0.9752  1.3233  1.2372  1.5711  0.7790  1.3907  0.9682  1.0379\n",
       "   1.4475  0.7808  1.5825  1.1202  1.2071  1.8529  1.1055  1.1832  1.3746  1.4005\n",
       " \n",
       " Columns 60 to 69 \n",
       " 1.00000e-02 *\n",
       "   0.6480  0.8348  1.1577  1.1945  1.3077  1.7589  0.8409  1.8717  1.2279  1.5988\n",
       "   1.7237  1.2345  1.3160  1.2397  0.9588  1.5276  1.2385  1.4857  1.3079  1.1813\n",
       " \n",
       " Columns 70 to 79 \n",
       " 1.00000e-02 *\n",
       "   0.8826  1.2843  1.3070  1.1802  0.8788  0.8366  1.8190  1.5443  0.8900  1.7192\n",
       "   1.1881  0.8772  1.1583  1.2587  1.6467  1.0168  1.3185  1.6049  1.0270  1.4748\n",
       " \n",
       " Columns 80 to 80 \n",
       " 1.00000e-02 *\n",
       "   1.6435\n",
       "   1.0377\n",
       " [torch.FloatTensor of size 2x81], Variable containing:\n",
       " 1.00000e-02 *\n",
       "   0.2716\n",
       "   4.1022\n",
       " [torch.FloatTensor of size 2x1])"
      ]
     },
     "execution_count": 89,
     "metadata": {},
     "output_type": "execute_result"
    }
   ],
   "source": [
    "model = NestedTTTNet()\n",
    "model(data)"
   ]
  },
  {
   "cell_type": "code",
   "execution_count": 27,
   "metadata": {},
   "outputs": [
    {
     "data": {
      "text/plain": [
       "torch.Size([9, 5, 3, 3])"
      ]
     },
     "execution_count": 27,
     "metadata": {},
     "output_type": "execute_result"
    }
   ],
   "source": [
    "conv_layer = torch.nn.Conv2d(1, 5, 3, padding = 1)\n",
    "conv_layer.weight.data.fill_(1)\n",
    "\n",
    "after_one = conv_layer(data)\n",
    "after_one.size()"
   ]
  },
  {
   "cell_type": "code",
   "execution_count": 24,
   "metadata": {},
   "outputs": [
    {
     "data": {
      "text/plain": [
       "torch.Size([9, 5])"
      ]
     },
     "execution_count": 24,
     "metadata": {},
     "output_type": "execute_result"
    }
   ],
   "source": [
    "after_one.squeeze().size()"
   ]
  },
  {
   "cell_type": "code",
   "execution_count": 25,
   "metadata": {},
   "outputs": [
    {
     "data": {
      "text/plain": [
       "torch.Size([1, 5, 3, 3])"
      ]
     },
     "execution_count": 25,
     "metadata": {},
     "output_type": "execute_result"
    }
   ],
   "source": [
    "after_one_reshaped = after_one.view((-1, 3, 3, 5)).permute(0, 3, 1, 2)\n",
    "after_one_reshaped.size()"
   ]
  },
  {
   "cell_type": "code",
   "execution_count": 18,
   "metadata": {},
   "outputs": [
    {
     "ename": "RuntimeError",
     "evalue": "Given groups=1, weight[5, 1, 3, 3], so expected input[1, 5, 3, 3] to have 1 channels, but got 5 channels instead",
     "output_type": "error",
     "traceback": [
      "\u001b[1;31m---------------------------------------------------------------------------\u001b[0m",
      "\u001b[1;31mRuntimeError\u001b[0m                              Traceback (most recent call last)",
      "\u001b[1;32m<ipython-input-18-8ef42e203398>\u001b[0m in \u001b[0;36m<module>\u001b[1;34m()\u001b[0m\n\u001b[0;32m      1\u001b[0m \u001b[0mafter_one_reshaped\u001b[0m \u001b[1;33m=\u001b[0m \u001b[0mafter_one\u001b[0m\u001b[1;33m.\u001b[0m\u001b[0mview\u001b[0m\u001b[1;33m(\u001b[0m\u001b[1;33m(\u001b[0m\u001b[1;33m-\u001b[0m\u001b[1;36m1\u001b[0m\u001b[1;33m,\u001b[0m \u001b[1;36m3\u001b[0m\u001b[1;33m,\u001b[0m \u001b[1;36m3\u001b[0m\u001b[1;33m,\u001b[0m \u001b[1;36m5\u001b[0m\u001b[1;33m)\u001b[0m\u001b[1;33m)\u001b[0m\u001b[1;33m.\u001b[0m\u001b[0mpermute\u001b[0m\u001b[1;33m(\u001b[0m\u001b[1;36m0\u001b[0m\u001b[1;33m,\u001b[0m \u001b[1;36m3\u001b[0m\u001b[1;33m,\u001b[0m \u001b[1;36m1\u001b[0m\u001b[1;33m,\u001b[0m \u001b[1;36m2\u001b[0m\u001b[1;33m)\u001b[0m\u001b[1;33m\u001b[0m\u001b[0m\n\u001b[1;32m----> 2\u001b[1;33m \u001b[0mafter_two\u001b[0m \u001b[1;33m=\u001b[0m \u001b[0mconv_layer\u001b[0m\u001b[1;33m(\u001b[0m\u001b[0mafter_one_reshaped\u001b[0m\u001b[1;33m)\u001b[0m\u001b[1;33m\u001b[0m\u001b[0m\n\u001b[0m\u001b[0;32m      3\u001b[0m \u001b[0mafter_two\u001b[0m\u001b[1;33m.\u001b[0m\u001b[0msize\u001b[0m\u001b[1;33m(\u001b[0m\u001b[1;33m)\u001b[0m\u001b[1;33m\u001b[0m\u001b[0m\n",
      "\u001b[1;32m~\\Anaconda3\\envs\\retro\\lib\\site-packages\\torch\\nn\\modules\\module.py\u001b[0m in \u001b[0;36m__call__\u001b[1;34m(self, *input, **kwargs)\u001b[0m\n\u001b[0;32m    355\u001b[0m             \u001b[0mresult\u001b[0m \u001b[1;33m=\u001b[0m \u001b[0mself\u001b[0m\u001b[1;33m.\u001b[0m\u001b[0m_slow_forward\u001b[0m\u001b[1;33m(\u001b[0m\u001b[1;33m*\u001b[0m\u001b[0minput\u001b[0m\u001b[1;33m,\u001b[0m \u001b[1;33m**\u001b[0m\u001b[0mkwargs\u001b[0m\u001b[1;33m)\u001b[0m\u001b[1;33m\u001b[0m\u001b[0m\n\u001b[0;32m    356\u001b[0m         \u001b[1;32melse\u001b[0m\u001b[1;33m:\u001b[0m\u001b[1;33m\u001b[0m\u001b[0m\n\u001b[1;32m--> 357\u001b[1;33m             \u001b[0mresult\u001b[0m \u001b[1;33m=\u001b[0m \u001b[0mself\u001b[0m\u001b[1;33m.\u001b[0m\u001b[0mforward\u001b[0m\u001b[1;33m(\u001b[0m\u001b[1;33m*\u001b[0m\u001b[0minput\u001b[0m\u001b[1;33m,\u001b[0m \u001b[1;33m**\u001b[0m\u001b[0mkwargs\u001b[0m\u001b[1;33m)\u001b[0m\u001b[1;33m\u001b[0m\u001b[0m\n\u001b[0m\u001b[0;32m    358\u001b[0m         \u001b[1;32mfor\u001b[0m \u001b[0mhook\u001b[0m \u001b[1;32min\u001b[0m \u001b[0mself\u001b[0m\u001b[1;33m.\u001b[0m\u001b[0m_forward_hooks\u001b[0m\u001b[1;33m.\u001b[0m\u001b[0mvalues\u001b[0m\u001b[1;33m(\u001b[0m\u001b[1;33m)\u001b[0m\u001b[1;33m:\u001b[0m\u001b[1;33m\u001b[0m\u001b[0m\n\u001b[0;32m    359\u001b[0m             \u001b[0mhook_result\u001b[0m \u001b[1;33m=\u001b[0m \u001b[0mhook\u001b[0m\u001b[1;33m(\u001b[0m\u001b[0mself\u001b[0m\u001b[1;33m,\u001b[0m \u001b[0minput\u001b[0m\u001b[1;33m,\u001b[0m \u001b[0mresult\u001b[0m\u001b[1;33m)\u001b[0m\u001b[1;33m\u001b[0m\u001b[0m\n",
      "\u001b[1;32m~\\Anaconda3\\envs\\retro\\lib\\site-packages\\torch\\nn\\modules\\conv.py\u001b[0m in \u001b[0;36mforward\u001b[1;34m(self, input)\u001b[0m\n\u001b[0;32m    280\u001b[0m     \u001b[1;32mdef\u001b[0m \u001b[0mforward\u001b[0m\u001b[1;33m(\u001b[0m\u001b[0mself\u001b[0m\u001b[1;33m,\u001b[0m \u001b[0minput\u001b[0m\u001b[1;33m)\u001b[0m\u001b[1;33m:\u001b[0m\u001b[1;33m\u001b[0m\u001b[0m\n\u001b[0;32m    281\u001b[0m         return F.conv2d(input, self.weight, self.bias, self.stride,\n\u001b[1;32m--> 282\u001b[1;33m                         self.padding, self.dilation, self.groups)\n\u001b[0m\u001b[0;32m    283\u001b[0m \u001b[1;33m\u001b[0m\u001b[0m\n\u001b[0;32m    284\u001b[0m \u001b[1;33m\u001b[0m\u001b[0m\n",
      "\u001b[1;32m~\\Anaconda3\\envs\\retro\\lib\\site-packages\\torch\\nn\\functional.py\u001b[0m in \u001b[0;36mconv2d\u001b[1;34m(input, weight, bias, stride, padding, dilation, groups)\u001b[0m\n\u001b[0;32m     88\u001b[0m                 \u001b[0m_pair\u001b[0m\u001b[1;33m(\u001b[0m\u001b[1;36m0\u001b[0m\u001b[1;33m)\u001b[0m\u001b[1;33m,\u001b[0m \u001b[0mgroups\u001b[0m\u001b[1;33m,\u001b[0m \u001b[0mtorch\u001b[0m\u001b[1;33m.\u001b[0m\u001b[0mbackends\u001b[0m\u001b[1;33m.\u001b[0m\u001b[0mcudnn\u001b[0m\u001b[1;33m.\u001b[0m\u001b[0mbenchmark\u001b[0m\u001b[1;33m,\u001b[0m\u001b[1;33m\u001b[0m\u001b[0m\n\u001b[0;32m     89\u001b[0m                 torch.backends.cudnn.deterministic, torch.backends.cudnn.enabled)\n\u001b[1;32m---> 90\u001b[1;33m     \u001b[1;32mreturn\u001b[0m \u001b[0mf\u001b[0m\u001b[1;33m(\u001b[0m\u001b[0minput\u001b[0m\u001b[1;33m,\u001b[0m \u001b[0mweight\u001b[0m\u001b[1;33m,\u001b[0m \u001b[0mbias\u001b[0m\u001b[1;33m)\u001b[0m\u001b[1;33m\u001b[0m\u001b[0m\n\u001b[0m\u001b[0;32m     91\u001b[0m \u001b[1;33m\u001b[0m\u001b[0m\n\u001b[0;32m     92\u001b[0m \u001b[1;33m\u001b[0m\u001b[0m\n",
      "\u001b[1;31mRuntimeError\u001b[0m: Given groups=1, weight[5, 1, 3, 3], so expected input[1, 5, 3, 3] to have 1 channels, but got 5 channels instead"
     ]
    }
   ],
   "source": [
    "after_two = conv_layer(after_one_reshaped)\n",
    "after_two.size()"
   ]
  },
  {
   "cell_type": "markdown",
   "metadata": {},
   "source": [
    "## Monte Carlo Tree Search Details\n",
    "\n",
    "Each edge (s, a) in the search tree stores a prior probability  P(s, a), a visit count N(s, a), and an action value Q(s, a). \n",
    "\n",
    "Each simulation starts from the root state and iteratively selects moves that maximize an upper confidence bound \n",
    "\n",
    "Q(s, a) + U(s, a), where U(s, a) ∝  P(s, a) /  (1 +  N(s, a))\n",
    "\n",
    "until a leaf node s′ is encountered. This leaf position is expanded and evaluated only once by the network to generate both prior probabilities and evaluation\n",
    "\n",
    "f(s') => P(s',  \\*), V(s')\n",
    "\n",
    "Each edge (s, a) traversed in the simulation is updated to increment its visit count N(s, a), and to update its action value to the mean evaluation over these simulations (MCTS backpropagation)\n",
    "\n",
    "For all edges that led to the current edge:  \n",
    "N(s, a) += 1  \n",
    "Q(s, a) = Q(s, a) * (N(s, a) - 1) / N(s, a) + V(s') / N(s, a) -- Linear interpolation between prior and new\n",
    "\n",
    "MCTS may be viewed as a self-play algorithm that, given neural network parameters θ and a root position s, computes a vector of search probabilities recommending moves to play, π =  αθ(s), proportional to the exponentiated visit count for each move, πa ∝  N(s, a)1/τ, where τ is a temperature parameter.\n",
    "\n",
    "AlphaGo Zero uses a much simpler variant of the asynchronous policy and value MCTS algorithm (APV-MCTS) used in AlphaGo Fan and AlphaGo Lee. Each node s in the search tree contains edges (s, a) for all legal actions. Each edge stores a set of statistics, N(s, a) is the visit count, W(s, a) is the total action value, Q(s, a) is the mean action value and P(s, a) is the prior probability of selecting that edge. \n",
    "\n",
    "Multiple simulations are executed in parallel on separate search threads. The algorithm proceeds by iterating over three phases, and then selects a move to play.\n",
    "\n",
    "Selection.  The first in-tree phase of each simulation begins at the root node of the search tree, s0, and finishes when the simulation reaches a leaf node sL at time-step L. At each of these time-steps, t < L, an action is selected according to the statistics in the search tree, using a variant of the PUCT algorithm, where cpuct is a constant determining the level of exploration; this search control strategy initially prefers actions with high prior probability and low visit count, but asympotically prefers actions with high action value.\n",
    "\n",
    "SELECTED ACTION = argmax(Q(s,a) + U(s,a))  \n",
    "U(s,a) = $c_{puct}P(s,a) * (sum(N(s,b)) ^ .5 / (1 + N(s,a))$ where b represents all actions from s\n",
    "\n",
    "Expand and evaluate. The leaf node sL is added to a queue for neural net-work evaluation, (di(p), v) =  fθ(di(sL)), where di is a dihedral reflection or rotation selected uniformly at random from i in [1..8]. Positions in the queue are evaluated by the neural network using a mini-batch size of 8; the search thread is locked until evaluation completes. The leaf node is expanded and each edge (sL, a) is initialized to {N(sL, a) =  0,  W(sL, a) =  0,  Q(sL, a) =  0,  P(sL, a) =  pa}; the value v is then backed up.\n",
    "\n",
    "Backup. The edge statistics are updated in a backward pass through each step t ≤  L. The visit counts are incremented, N(st, at) =  N(st, at) +  1, and the action  value is updated to the mean value. We use virtual loss to ensure each thread evaluates different nodes.\n",
    "\n",
    "Play. At the end of the search AlphaGo Zero selects a move a to play  in the root position s0, proportional to its exponentiated visit count, , where τ is a temperature parameter that controls the level of exploration. The search tree is reused at subsequent time-steps: the child node corresponding to the played action becomes the new root node; the subtree below this child is retained along with all its statistics, while the remainder of the tree is discarded. AlphaGo Zero resigns if its root value and best child value are lower than a threshold value.\n",
    "\n",
    "SELECTED ACTION = $N(s_0,a)^{1/\\tau}/\\Sigma_bN(s_0,b)^{1/\\tau}$"
   ]
  },
  {
   "cell_type": "markdown",
   "metadata": {},
   "source": [
    "## Symbols\n",
    "\n",
    "* s - Neural network input:   Board position\n",
    "* v - Neural network output:  Estimated probability of current player winning from board position s\n",
    "* p - Neural network output:  Vector of move probabilities\n",
    "* f - Neural network:  f(s) => v, p\n",
    "* $\\theta$ - Network weights\n",
    "* $\\pi$ - MCTS output:  Vector of move probabilities\n",
    "* P(s, a) - MCTS edge data:  Prior probability (NN prediction) of choosing action a in state s\n",
    "* N(s, a) - MCTS edge data:  Number of visits to edge (s, a)\n",
    "* Q(s, a) - MCTS edge data:  Value estimate of edge (s, a)\n",
    "* c - Regularization parameter\n",
    "* $\\tau$ - Temperature value"
   ]
  },
  {
   "cell_type": "markdown",
   "metadata": {},
   "source": [
    "## Parameter Updates\n",
    "\n",
    "* Predicted - (v, p)\n",
    "* Target    - (z, $\\pi$)\n",
    "* Loss      - (z - v) ^ 2 - $\\pi^Tlog$p + c||$\\theta$||$^2$"
   ]
  },
  {
   "cell_type": "markdown",
   "metadata": {},
   "source": [
    "## Overall Algorithm\n",
    "\n",
    "* Initialize the 0th iteration of the NN weights randomly\n",
    "* Maintain a replay buffer for data from self-play games\n",
    "* Maintain the \"best\" iteration of the NN weights (control network)\n",
    "* Repeat until convergence:\n",
    "  * Conduct self-play games:\n",
    "    * At each step, run MCTS using the control network to get ($s_t, \\pi_t, z_t$) and put in replay buffer\n",
    "  * Train policy network using replay buffer\n",
    "  * After x iterations, compare performance of policy and control network.  If policy network wins > 55% of games, make it the new control network"
   ]
  },
  {
   "cell_type": "markdown",
   "metadata": {},
   "source": [
    "## Domain Knowledge Provided to AlphaGo\n",
    "\n",
    "(1) AlphaGo Zero is provided with perfect knowledge of the game rules. These are used during MCTS, to simulate the positions resulting from a sequence of moves, and to score any simulations that reach a terminal state. Games terminate when both players pass or after 19 ×   19 ×  2 =  722 moves. In addition, the player is provided with the set of legal moves in each position.\n",
    "\n",
    "(2) AlphaGo Zero uses Tromp–Taylor scoring during MCTS simulations and self-play training. This is because human scores (Chinese, Japanese or Korean rules) are not well-defined if the game terminates before territorial boundaries are resolved. However, all tournament and evaluation games were scored using Chinese rules.\n",
    "\n",
    "(3) The input features describing the position are structured as a 19 ×  19  image; that is, the neural network architecture is matched to the grid-structure of the board.\n",
    "\n",
    "(4) The rules of Go are invariant under rotation and reflection; this knowledge has been used in AlphaGo Zero both by augmenting the dataset during training to include rotations and reflections of each position, and to sample random rotations or reflections of the position during MCTS (see Search algorithm). Aside from komi, the rules of Go are also invariant to colour transposition; this knowledge is exploited by representing the board from the perspective of the current player (see Neural network architecture).\n",
    "\n",
    "AlphaGo Zero does not use any form of domain knowledge beyond the points listed above. It only uses its deep neural network to evaluate leaf nodes and to select moves (see ‘Search algorithm’). It does not use any rollout policy or tree policy, and the MCTS is not augmented by any other heuristics or domain-specific rules. No legal moves are excluded—even those filling in the player’s own eyes (a standard heuristic used in all previous programs)."
   ]
  },
  {
   "cell_type": "markdown",
   "metadata": {},
   "source": [
    "## Optimization Details\n",
    "\n",
    "The batch-size is 32 per worker, for a total mini-batch size of 2,048. \n",
    "\n",
    "Each mini-batch of data is sampled uniformly at random from all positions of the most recent 500,000 games of self-play. \n",
    "\n",
    "Neural network parameters are optimized by stochastic gradient descent with momentum and learning rate annealing, using the loss in equation (1). \n",
    "\n",
    "The learning rate is annealed according to minibatch number:\n",
    "* less than 400k:  10e-2 \n",
    "* 400k to 600k:  10e-3\n",
    "* greater than 600k: 10e-4\n",
    "\n",
    "The momentum parameter is set to 0.9. \n",
    "\n",
    "The cross-entropy and MSE losses are weighted equally (this is reasonable because rewards are unit scaled,  r ∈  {− 1,  + 1}) and the L2 regularization parameter is set to c =  10−4. \n",
    "\n",
    "The optimiza-tion process produces a new checkpoint every 1,000 training steps. This checkpoint is evaluated by the evaluator and it may be used for generating the next batch of self-play games, as we explain next."
   ]
  },
  {
   "cell_type": "markdown",
   "metadata": {},
   "source": [
    "## Evaluation Details\n",
    "\n",
    "* 400 games  \n",
    "* 1600 MCTS simulations per move  \n",
    "* Temperature epsilon small (argmax)  \n",
    "* $\\theta_* vs. \\theta_{current}$ (Best network thus far vs. most recent checkpoint)  \n",
    "\n",
    "If new checkpoint wins more than 55% of games, make it the new control network"
   ]
  },
  {
   "cell_type": "markdown",
   "metadata": {},
   "source": [
    "## Self-Play Details\n",
    "\n",
    "* 25000 games\n",
    "* 1600 MCTS simulations per move\n",
    "* First 30 moves:  Temperature = 1\n",
    "* Subsequent moves:  Temperature = epsilon small\n",
    "\n",
    "Additional exploration is achieved by adding Dirichlet noise to the prior probabilities in the root node s0, specifically P(s, a) =   (1 −   ε)pa +   εηa, where η ∼   Dir(0.03)  and  ε =  0.25; this noise ensures that all moves may be tried, but the search may still overrule bad moves. \n",
    "\n",
    "A game terminates at step T when both players pass, when the search value drops below a resignation threshold or when the game exceeds a maximum length; the game is then scored to give a final reward of r ∈ {− 1,+ 1} \n",
    "\n",
    "The data for each time-step t is stored as (st,πt,zt), where zt = ± r is the game winner from the perspective of the current player at step t"
   ]
  },
  {
   "cell_type": "code",
   "execution_count": null,
   "metadata": {
    "collapsed": true
   },
   "outputs": [],
   "source": []
  }
 ],
 "metadata": {
  "kernelspec": {
   "display_name": "Python [conda env:retro]",
   "language": "python",
   "name": "conda-env-retro-py"
  },
  "language_info": {
   "codemirror_mode": {
    "name": "ipython",
    "version": 3
   },
   "file_extension": ".py",
   "mimetype": "text/x-python",
   "name": "python",
   "nbconvert_exporter": "python",
   "pygments_lexer": "ipython3",
   "version": "3.6.5"
  }
 },
 "nbformat": 4,
 "nbformat_minor": 2
}
